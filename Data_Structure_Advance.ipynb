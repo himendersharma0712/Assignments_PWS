{
 "cells": [
  {
   "cell_type": "code",
   "execution_count": 1,
   "metadata": {},
   "outputs": [],
   "source": [
    "# Write a code to reverse a string"
   ]
  },
  {
   "cell_type": "code",
   "execution_count": 5,
   "metadata": {},
   "outputs": [
    {
     "data": {
      "text/plain": [
       "'olleH'"
      ]
     },
     "execution_count": 5,
     "metadata": {},
     "output_type": "execute_result"
    }
   ],
   "source": [
    "str1 = \"Hello\"\n",
    "str1[-1::-1]"
   ]
  },
  {
   "cell_type": "code",
   "execution_count": 19,
   "metadata": {},
   "outputs": [],
   "source": [
    "# Write a code to count the number of vowels in a string"
   ]
  },
  {
   "cell_type": "code",
   "execution_count": 17,
   "metadata": {},
   "outputs": [
    {
     "name": "stdout",
     "output_type": "stream",
     "text": [
      " a : 2 \n",
      " e : 1 \n",
      " i : 6 \n",
      " o : 9 \n",
      " u : 2\n"
     ]
    }
   ],
   "source": [
    "str_ = 'pneumonoultramicroscopicsilicovolcanoconiosis'\n",
    "\n",
    "a = 0\n",
    "e = 0\n",
    "i = 0\n",
    "o = 0\n",
    "u = 0\n",
    "\n",
    "for char in str_ :\n",
    "    if char == 'a':\n",
    "        a += 1\n",
    "\n",
    "    if char == 'e':\n",
    "        e += 1\n",
    "\n",
    "    if char == 'i':\n",
    "        i += 1\n",
    "\n",
    "    if char == 'u':\n",
    "        u += 1\n",
    "\n",
    "    if char == 'o':\n",
    "        o += 1\n",
    "\n",
    "print(f' a : {a} \\n e : {e} \\n i : {i} \\n o : {o} \\n u : {u}')"
   ]
  },
  {
   "cell_type": "code",
   "execution_count": 21,
   "metadata": {},
   "outputs": [],
   "source": [
    "# Write a code to check if a given string is a palindrome or not"
   ]
  },
  {
   "cell_type": "code",
   "execution_count": 32,
   "metadata": {},
   "outputs": [
    {
     "name": "stdout",
     "output_type": "stream",
     "text": [
      "palindrome detected\n"
     ]
    }
   ],
   "source": [
    "string_1 = 'RADAR'\n",
    "\n",
    "if string_1[-1::-1] == string_1:\n",
    "    print('palindrome detected')\n",
    "else:\n",
    "    print('NOT A palindrome 💀')"
   ]
  },
  {
   "cell_type": "code",
   "execution_count": 34,
   "metadata": {},
   "outputs": [],
   "source": [
    "# Write a code to check if two given strings are anagrams of each other"
   ]
  },
  {
   "cell_type": "code",
   "execution_count": 36,
   "metadata": {},
   "outputs": [
    {
     "name": "stdout",
     "output_type": "stream",
     "text": [
      "anagrams detected\n"
     ]
    }
   ],
   "source": [
    "str1 = 'listen'\n",
    "str2 = 'silent'\n",
    "\n",
    "if sorted(str1) == sorted(str2):\n",
    "    print('anagrams detected')\n",
    "else:\n",
    "    print('not anagrams ⚠️')"
   ]
  },
  {
   "cell_type": "code",
   "execution_count": 38,
   "metadata": {},
   "outputs": [],
   "source": [
    "# Write a code to find all occurrences of a given substring within another string"
   ]
  },
  {
   "cell_type": "code",
   "execution_count": 43,
   "metadata": {},
   "outputs": [
    {
     "name": "stdout",
     "output_type": "stream",
     "text": [
      "No of occurences = 7\n"
     ]
    }
   ],
   "source": [
    "substring = 'hell'\n",
    "main_str = \"Go to hell you hellish monster, you deserve to be in hell. hello! hell's gates are open for you!!! WHat the hell! what the hell is wrong with you??\"\n",
    "\n",
    "indices = []\n",
    "start = 0\n",
    "while True:\n",
    "    start = main_str.find(substring,start)\n",
    "    if start == -1:\n",
    "        break\n",
    "    indices.append(start)\n",
    "    start += 1\n",
    "\n",
    "print(f'No of occurences = {len(indices)}')"
   ]
  },
  {
   "cell_type": "code",
   "execution_count": 44,
   "metadata": {},
   "outputs": [],
   "source": [
    "#  Write a code to perform basic string compression using the counts of repeated characters"
   ]
  },
  {
   "cell_type": "code",
   "execution_count": 1,
   "metadata": {},
   "outputs": [
    {
     "name": "stdout",
     "output_type": "stream",
     "text": [
      "Compressed String: a3b3c3d2e\n"
     ]
    }
   ],
   "source": [
    "def compress_string(input_str):\n",
    "    result = []\n",
    "    count = 1\n",
    "\n",
    "    \n",
    "    for i in range(1, len(input_str)):\n",
    "        if input_str[i] == input_str[i - 1]:\n",
    "            count += 1\n",
    "        else:\n",
    "            result.append(input_str[i - 1])\n",
    "            if count > 1:\n",
    "                result.append(str(count))\n",
    "            count = 1\n",
    "\n",
    "    \n",
    "    result.append(input_str[-1])\n",
    "    if count > 1:\n",
    "        result.append(str(count))\n",
    "\n",
    "    return ''.join(result)\n",
    "\n",
    "input_str = \"aaabbbcccdde\"\n",
    "compressed = compress_string(input_str)\n",
    "print(\"Compressed String:\", compressed)\n"
   ]
  },
  {
   "cell_type": "code",
   "execution_count": 2,
   "metadata": {},
   "outputs": [],
   "source": [
    "# Write a code to determine if a string has all unique characters"
   ]
  },
  {
   "cell_type": "code",
   "execution_count": 16,
   "metadata": {},
   "outputs": [
    {
     "data": {
      "text/plain": [
       "False"
      ]
     },
     "execution_count": 16,
     "metadata": {},
     "output_type": "execute_result"
    }
   ],
   "source": [
    "given_str = \"abcc\"\n",
    "is_unique = True\n",
    "\n",
    "seen = set()\n",
    "\n",
    "for char in given_str:\n",
    "    if char in seen:\n",
    "        is_unique = False\n",
    "        break\n",
    "    seen.add(char)\n",
    "\n",
    "is_unique"
   ]
  },
  {
   "cell_type": "code",
   "execution_count": 17,
   "metadata": {},
   "outputs": [],
   "source": [
    "# Write a code to convert a given string to uppercase or lowercase"
   ]
  },
  {
   "cell_type": "code",
   "execution_count": 20,
   "metadata": {},
   "outputs": [
    {
     "name": "stdout",
     "output_type": "stream",
     "text": [
      "NOTHINGHERE\n"
     ]
    }
   ],
   "source": [
    "String = \"nothinghere\"\n",
    "choose = input(\"upper or lower: \")\n",
    "match(choose):\n",
    "    case 'upper':\n",
    "        String = String.upper()\n",
    "    \n",
    "    case 'lower':\n",
    "        String = String.lower()\n",
    "\n",
    "print(String)"
   ]
  },
  {
   "cell_type": "code",
   "execution_count": 21,
   "metadata": {},
   "outputs": [],
   "source": [
    "# Write a code to count the number of words in a string"
   ]
  },
  {
   "cell_type": "code",
   "execution_count": 23,
   "metadata": {},
   "outputs": [
    {
     "data": {
      "text/plain": [
       "5"
      ]
     },
     "execution_count": 23,
     "metadata": {},
     "output_type": "execute_result"
    }
   ],
   "source": [
    "def count_words(string_input: str)-> int:\n",
    "    words = string_input.split()\n",
    "    \n",
    "    return len(words)\n",
    "\n",
    "str_inp = \"what on earth are you\"\n",
    "word_count = count_words(str_inp)\n",
    "word_count"
   ]
  },
  {
   "cell_type": "code",
   "execution_count": 24,
   "metadata": {},
   "outputs": [],
   "source": [
    "# Write a code to concatenate two strings without using the + operator"
   ]
  },
  {
   "cell_type": "code",
   "execution_count": 29,
   "metadata": {},
   "outputs": [
    {
     "data": {
      "text/plain": [
       "'hey there'"
      ]
     },
     "execution_count": 29,
     "metadata": {},
     "output_type": "execute_result"
    }
   ],
   "source": [
    "str1 = 'hey'\n",
    "str2 = ' there'\n",
    "\n",
    "str3 = ''.join([str1,str2])\n",
    "str3\n"
   ]
  },
  {
   "cell_type": "code",
   "execution_count": 30,
   "metadata": {},
   "outputs": [],
   "source": [
    "# Write a code to remove all occurrences of a specific element from a list"
   ]
  },
  {
   "cell_type": "code",
   "execution_count": 32,
   "metadata": {},
   "outputs": [
    {
     "data": {
      "text/plain": [
       "[1, 3, 4, 3, 3, 5, 6, 3, 4]"
      ]
     },
     "execution_count": 32,
     "metadata": {},
     "output_type": "execute_result"
    }
   ],
   "source": [
    "lis1 = [1,2,3,4,2,3,2,3,5,6,2,3,4]\n",
    "\n",
    "element = 2\n",
    "\n",
    "lis2 = [i for i in lis1 if i != element]\n",
    "\n",
    "lis2"
   ]
  },
  {
   "cell_type": "code",
   "execution_count": 33,
   "metadata": {},
   "outputs": [],
   "source": [
    "# Implement a code to find the second largest number in a given list of integers"
   ]
  },
  {
   "cell_type": "code",
   "execution_count": 41,
   "metadata": {},
   "outputs": [
    {
     "data": {
      "text/plain": [
       "88"
      ]
     },
     "execution_count": 41,
     "metadata": {},
     "output_type": "execute_result"
    }
   ],
   "source": [
    "def find_sec_larg(list_: list):\n",
    "    list_.sort()\n",
    "    return list_[-2]\n",
    "\n",
    "\n",
    "list3 = [2,34,56,67,88,100]\n",
    "find_sec_larg(list3)"
   ]
  },
  {
   "cell_type": "code",
   "execution_count": 42,
   "metadata": {},
   "outputs": [],
   "source": [
    "# Create a code to count the occurrences of each element in a list and return a dictionary with elements as \n",
    "# keys and their counts as values"
   ]
  },
  {
   "cell_type": "code",
   "execution_count": 43,
   "metadata": {},
   "outputs": [
    {
     "name": "stdout",
     "output_type": "stream",
     "text": [
      "{1: 1, 2: 4, 3: 4, 4: 2, 5: 1, 6: 1}\n"
     ]
    }
   ],
   "source": [
    "def count_occurrences(lst):\n",
    "    count_dict = {}\n",
    "    \n",
    "    for element in lst:\n",
    "        if element in count_dict:\n",
    "            count_dict[element] += 1  \n",
    "        else:\n",
    "            count_dict[element] = 1  \n",
    "            \n",
    "    return count_dict\n",
    "\n",
    "\n",
    "lst = [1, 2, 3, 4, 2, 3, 2, 3, 5, 6, 2, 3, 4]\n",
    "result = count_occurrences(lst)\n",
    "print(result)"
   ]
  },
  {
   "cell_type": "code",
   "execution_count": 44,
   "metadata": {},
   "outputs": [],
   "source": [
    "# Write a code to reverse a list in-place without using any built-in reverse functions"
   ]
  },
  {
   "cell_type": "code",
   "execution_count": 51,
   "metadata": {},
   "outputs": [
    {
     "data": {
      "text/plain": [
       "[99, 88, 7, 6, 5, 4, 2, 1]"
      ]
     },
     "execution_count": 51,
     "metadata": {},
     "output_type": "execute_result"
    }
   ],
   "source": [
    "lis = [1,2,4,5,6,7,88,99]\n",
    "\n",
    "end = len(lis) - 1\n",
    "start = 0\n",
    "\n",
    "while start < end:\n",
    "    if end != start:\n",
    "        (lis[start],lis[end]) = (lis[end],lis[start])\n",
    "        end-=1\n",
    "        start+=1\n",
    "\n",
    "lis"
   ]
  },
  {
   "cell_type": "code",
   "execution_count": 52,
   "metadata": {},
   "outputs": [],
   "source": [
    "#  Implement a code to find and remove duplicates from a list while preserving the original order of \n",
    "# elements"
   ]
  },
  {
   "cell_type": "code",
   "execution_count": 53,
   "metadata": {},
   "outputs": [
    {
     "name": "stdout",
     "output_type": "stream",
     "text": [
      "[1, 2, 3, 4, 5, 6]\n"
     ]
    }
   ],
   "source": [
    "def remove_duplicates(lst):\n",
    "    seen = set()\n",
    "    result = []\n",
    "\n",
    "    for element in lst:\n",
    "        if element not in seen:\n",
    "            result.append(element)\n",
    "            seen.add(element)\n",
    "\n",
    "    return result\n",
    "\n",
    "lst = [1, 2, 3, 4, 2, 3, 2, 3, 5, 6, 2, 3, 4]\n",
    "result = remove_duplicates(lst)\n",
    "print(result)\n"
   ]
  },
  {
   "cell_type": "code",
   "execution_count": 54,
   "metadata": {},
   "outputs": [],
   "source": [
    "# Create a code to check if a given list is sorted (either in ascending or descending order) or not"
   ]
  },
  {
   "cell_type": "code",
   "execution_count": 55,
   "metadata": {},
   "outputs": [
    {
     "name": "stdout",
     "output_type": "stream",
     "text": [
      "Ascending\n"
     ]
    }
   ],
   "source": [
    "def is_sorted(lst):\n",
    "    if lst == sorted(lst):\n",
    "        return \"Ascending\"\n",
    "    elif lst == sorted(lst, reverse=True):\n",
    "        return \"Descending\"\n",
    "    else:\n",
    "        return \"Not sorted\"\n",
    "\n",
    "lst = [1, 2, 3, 4, 5]\n",
    "result = is_sorted(lst)\n",
    "print(result)"
   ]
  },
  {
   "cell_type": "code",
   "execution_count": 56,
   "metadata": {},
   "outputs": [],
   "source": [
    "# Write a code to merge two sorted lists into a single sorted list"
   ]
  },
  {
   "cell_type": "code",
   "execution_count": 61,
   "metadata": {},
   "outputs": [
    {
     "name": "stdout",
     "output_type": "stream",
     "text": [
      "[1, 2, 3, 4, 5, 6, 7, 8, 9, 10]\n"
     ]
    }
   ],
   "source": [
    "def merge_sorted_lists(lst1, lst2):\n",
    "    return sorted(lst1 + lst2)\n",
    "\n",
    "\n",
    "lst1 = [1, 3, 5, 7, 9]\n",
    "lst2 = [2, 4, 6, 8, 10]\n",
    "merged = merge_sorted_lists(lst1, lst2)\n",
    "print(merged)\n"
   ]
  },
  {
   "cell_type": "code",
   "execution_count": 62,
   "metadata": {},
   "outputs": [],
   "source": [
    "# Implement a code to find the intersection of two given lists"
   ]
  },
  {
   "cell_type": "code",
   "execution_count": 63,
   "metadata": {},
   "outputs": [
    {
     "name": "stdout",
     "output_type": "stream",
     "text": [
      "[3, 4, 5]\n"
     ]
    }
   ],
   "source": [
    "def intersection(lst1, lst2):\n",
    "    return list(set(lst1) & set(lst2))\n",
    "\n",
    "\n",
    "lst1 = [1, 2, 3, 4, 5]\n",
    "lst2 = [3, 4, 5, 6, 7]\n",
    "result = intersection(lst1, lst2)\n",
    "print(result)\n"
   ]
  },
  {
   "cell_type": "code",
   "execution_count": 64,
   "metadata": {},
   "outputs": [],
   "source": [
    "# Create a code to find the union of two lists without duplicates"
   ]
  },
  {
   "cell_type": "code",
   "execution_count": 66,
   "metadata": {},
   "outputs": [
    {
     "name": "stdout",
     "output_type": "stream",
     "text": [
      "[1, 2, 3, 4, 5, 6, 7]\n"
     ]
    }
   ],
   "source": [
    "def union(lst1, lst2):\n",
    "    return list(set(lst1) | set(lst2))\n",
    "\n",
    "\n",
    "lst1 = [1, 2, 3, 4, 5]\n",
    "lst2 = [3, 4, 5, 6, 7]\n",
    "result = union(lst1, lst2)\n",
    "print(result)\n"
   ]
  },
  {
   "cell_type": "code",
   "execution_count": 67,
   "metadata": {},
   "outputs": [],
   "source": [
    "# Write a code to shuffle a given list randomly without using any built-in shuffle functions"
   ]
  },
  {
   "cell_type": "code",
   "execution_count": 68,
   "metadata": {},
   "outputs": [
    {
     "name": "stdout",
     "output_type": "stream",
     "text": [
      "[3, 4, 2, 6, 5, 1]\n"
     ]
    }
   ],
   "source": [
    "import random\n",
    "\n",
    "def shuffle_list(lst):\n",
    "    n = len(lst)\n",
    "    for i in range(n - 1, 0, -1):\n",
    "        j = random.randint(0, i)  \n",
    "        lst[i], lst[j] = lst[j], lst[i]  \n",
    "    return lst\n",
    "\n",
    "\n",
    "lst = [1, 2, 3, 4, 5, 6]\n",
    "shuffled_lst = shuffle_list(lst)\n",
    "print(shuffled_lst)\n"
   ]
  },
  {
   "cell_type": "code",
   "execution_count": 69,
   "metadata": {},
   "outputs": [],
   "source": [
    "# Write a code that takes two tuples as input and returns a new tuple containing elements that are \n",
    "# common to both input tuples"
   ]
  },
  {
   "cell_type": "code",
   "execution_count": 73,
   "metadata": {},
   "outputs": [
    {
     "data": {
      "text/plain": [
       "(2, 5, 6)"
      ]
     },
     "execution_count": 73,
     "metadata": {},
     "output_type": "execute_result"
    }
   ],
   "source": [
    "def common_tup(tup1: tuple,tup2: tuple):\n",
    "    return tuple(set(tup1) & set(tup2))\n",
    "\n",
    "tup1 = (1,2,4,5,6)\n",
    "tup2 = (5,6,2,7,8)\n",
    "common_tup(tup1,tup2)"
   ]
  },
  {
   "cell_type": "code",
   "execution_count": 74,
   "metadata": {},
   "outputs": [],
   "source": [
    "# Create a code that prompts the user to enter two sets of integers separated by commas. Then, print the \n",
    "# intersection of these two sets"
   ]
  },
  {
   "cell_type": "code",
   "execution_count": 75,
   "metadata": {},
   "outputs": [
    {
     "name": "stdout",
     "output_type": "stream",
     "text": [
      "set()\n"
     ]
    }
   ],
   "source": [
    "set1 = set(map(int, input(\"Enter first set of integers separated by commas: \").split(',')))\n",
    "set2 = set(map(int, input(\"Enter second set of integers separated by commas: \").split(',')))\n",
    "\n",
    "print(set1 & set2)"
   ]
  },
  {
   "cell_type": "code",
   "execution_count": 76,
   "metadata": {},
   "outputs": [],
   "source": [
    "#  Write a code to concatenate two tuples. The function should take two tuples as input and return a new \n",
    "# tuple containing elements from both input tuples."
   ]
  },
  {
   "cell_type": "code",
   "execution_count": 82,
   "metadata": {},
   "outputs": [
    {
     "data": {
      "text/plain": [
       "(0,\n",
       " 1,\n",
       " 2,\n",
       " 3,\n",
       " 4,\n",
       " 5,\n",
       " 6,\n",
       " 7,\n",
       " 8,\n",
       " 9,\n",
       " 0,\n",
       " 1,\n",
       " 2,\n",
       " 3,\n",
       " 4,\n",
       " 5,\n",
       " 6,\n",
       " 7,\n",
       " 8,\n",
       " 9,\n",
       " 10,\n",
       " 11,\n",
       " 12,\n",
       " 13,\n",
       " 14,\n",
       " 15,\n",
       " 16,\n",
       " 17,\n",
       " 18,\n",
       " 19)"
      ]
     },
     "execution_count": 82,
     "metadata": {},
     "output_type": "execute_result"
    }
   ],
   "source": [
    "from itertools import chain\n",
    "\n",
    "tup1 = (i for i in range(10))\n",
    "tup2 = (i for i in range(20))\n",
    "\n",
    "\n",
    "def concat_tup(tup1,tup2)-> tuple:\n",
    "    return tuple(chain(tup1,tup2))\n",
    "\n",
    "tup3 = concat_tup(tup1,tup2)\n",
    "\n",
    "tup3"
   ]
  },
  {
   "cell_type": "code",
   "execution_count": 83,
   "metadata": {},
   "outputs": [],
   "source": [
    "# Develop a code that prompts the user to input two sets of strings. Then, print the elements that are \n",
    "# present in the first set but not in the second set"
   ]
  },
  {
   "cell_type": "code",
   "execution_count": 85,
   "metadata": {},
   "outputs": [
    {
     "name": "stdout",
     "output_type": "stream",
     "text": [
      "{'what', ' am ', ' i '}\n"
     ]
    }
   ],
   "source": [
    "set1 = set(input(\"Enter first set of strings separated by commas: \").split(','))\n",
    "set2 = set(input(\"Enter second set of strings separated by commas: \").split(','))\n",
    "\n",
    "result = set1 - set2\n",
    "print(result)\n"
   ]
  },
  {
   "cell_type": "code",
   "execution_count": 86,
   "metadata": {},
   "outputs": [],
   "source": [
    "# Create a code that takes a tuple and two integers as input. The function should return a new tuple \n",
    "# containing elements from the original tuple within the specified range of indices"
   ]
  },
  {
   "cell_type": "code",
   "execution_count": 87,
   "metadata": {},
   "outputs": [
    {
     "name": "stdout",
     "output_type": "stream",
     "text": [
      "('4', '5')\n"
     ]
    }
   ],
   "source": [
    "def extract_range(tup, start, end):\n",
    "    return tup[start:end]\n",
    "\n",
    "\n",
    "tup = tuple(input(\"Enter the elements of the tuple separated by commas: \").split(','))\n",
    "start = int(input(\"Enter the start index: \"))\n",
    "end = int(input(\"Enter the end index: \"))\n",
    "\n",
    "result = extract_range(tup, start, end)\n",
    "print(result)\n"
   ]
  },
  {
   "cell_type": "code",
   "execution_count": 88,
   "metadata": {},
   "outputs": [],
   "source": [
    "# Write a code that prompts the user to input two sets of characters. Then, print the union of these two sets"
   ]
  },
  {
   "cell_type": "code",
   "execution_count": 90,
   "metadata": {},
   "outputs": [
    {
     "name": "stdout",
     "output_type": "stream",
     "text": [
      "{'e ', 'a', ' b', ' d', ' e', ' c', ' o ', ' u ', ' i '}\n"
     ]
    }
   ],
   "source": [
    "set1 = set(input('enter characters separated by commas for set1: ').split(',')) # a, b, c, d, e\n",
    "set2 = set(input('enter characters separated by commas for set2 : ').split(',')) # a,e , i , o , u \n",
    "\n",
    "print(set1 | set2)"
   ]
  },
  {
   "cell_type": "code",
   "execution_count": null,
   "metadata": {},
   "outputs": [],
   "source": [
    "# Develop a code that takes a tuple of integers as input. The function should return the maximum and \n",
    "# minimum values from the tuple using tuple unpacking"
   ]
  },
  {
   "cell_type": "code",
   "execution_count": 99,
   "metadata": {},
   "outputs": [
    {
     "data": {
      "text/plain": [
       "(9, 0)"
      ]
     },
     "execution_count": 99,
     "metadata": {},
     "output_type": "execute_result"
    }
   ],
   "source": [
    "def max_min_tup(tup: tuple):\n",
    "    maxm, minm = max(tup), min(tup)\n",
    "    return maxm,minm\n",
    "\n",
    "tup = tuple(i for i in range(10))\n",
    "\n",
    "max_min_tup(tup)"
   ]
  },
  {
   "cell_type": "code",
   "execution_count": 100,
   "metadata": {},
   "outputs": [],
   "source": [
    "#  Create a code that defines two sets of integers. Then, print the union, intersection, and difference of these \n",
    "# two sets"
   ]
  },
  {
   "cell_type": "code",
   "execution_count": 101,
   "metadata": {},
   "outputs": [
    {
     "name": "stdout",
     "output_type": "stream",
     "text": [
      "Union: {1, 2, 3, 4, 5, 6, 7, 8}\n",
      "Intersection: {4, 5}\n",
      "Difference: {1, 2, 3}\n"
     ]
    }
   ],
   "source": [
    "set1 = {1, 2, 3, 4, 5}\n",
    "set2 = {4, 5, 6, 7, 8}\n",
    "\n",
    "union = set1 | set2\n",
    "print(\"Union:\", union)\n",
    "\n",
    "\n",
    "intersection = set1 & set2\n",
    "print(\"Intersection:\", intersection)\n",
    "\n",
    "\n",
    "difference = set1 - set2\n",
    "print(\"Difference:\", difference)\n"
   ]
  },
  {
   "cell_type": "code",
   "execution_count": 102,
   "metadata": {},
   "outputs": [],
   "source": [
    "# Write a code that takes a tuple and an element as input. The function should return the count of \n",
    "# occurrences of the given element in the tuple"
   ]
  },
  {
   "cell_type": "code",
   "execution_count": 103,
   "metadata": {},
   "outputs": [
    {
     "name": "stdout",
     "output_type": "stream",
     "text": [
      "The element '3' occurs 1 time(s) in the tuple.\n"
     ]
    }
   ],
   "source": [
    "def count_occurrences(tup: tuple, element):\n",
    "    return tup.count(element)\n",
    "\n",
    "\n",
    "tup = tuple(input(\"Enter the elements of the tuple separated by commas: \").split(','))\n",
    "element = input(\"Enter the element to count: \")\n",
    "\n",
    "\n",
    "count = count_occurrences(tup, element)\n",
    "print(f\"The element '{element}' occurs {count} time(s) in the tuple.\")\n"
   ]
  },
  {
   "cell_type": "code",
   "execution_count": 104,
   "metadata": {},
   "outputs": [],
   "source": [
    "# Develop a code that prompts the user to input two sets of strings. Then, print the symmetric difference of \n",
    "# these two sets"
   ]
  },
  {
   "cell_type": "code",
   "execution_count": 105,
   "metadata": {},
   "outputs": [
    {
     "name": "stdout",
     "output_type": "stream",
     "text": [
      "Symmetric Difference: {'6', '5'}\n"
     ]
    }
   ],
   "source": [
    "\n",
    "set1 = set(input(\"Enter first set of strings separated by commas: \").split(','))\n",
    "set2 = set(input(\"Enter second set of strings separated by commas: \").split(','))\n",
    "\n",
    "\n",
    "symmetric_difference = set1 ^ set2\n",
    "\n",
    "\n",
    "print(\"Symmetric Difference:\", symmetric_difference)\n"
   ]
  },
  {
   "cell_type": "code",
   "execution_count": 106,
   "metadata": {},
   "outputs": [],
   "source": [
    "#  Write a code that takes a list of words as input and returns a dictionary where the keys are unique words \n",
    "# and the values are the frequencies of those words in the input list"
   ]
  },
  {
   "cell_type": "code",
   "execution_count": 107,
   "metadata": {},
   "outputs": [
    {
     "name": "stdout",
     "output_type": "stream",
     "text": [
      "{'clearin': 1, 'the': 1, 'roof': 1, 'dont': 1, 'dream': 1, 'its': 1, 'over': 1}\n"
     ]
    }
   ],
   "source": [
    "def word_frequencies(words_list):\n",
    "    freq_dict = {}\n",
    "    for word in words_list:\n",
    "        freq_dict[word] = freq_dict.get(word, 0) + 1\n",
    "    return freq_dict\n",
    "\n",
    "\n",
    "words_input = input(\"Enter a list of words separated by spaces: \").split()\n",
    "\n",
    "result = word_frequencies(words_input)\n",
    "print(result)\n"
   ]
  },
  {
   "cell_type": "code",
   "execution_count": 108,
   "metadata": {},
   "outputs": [],
   "source": [
    "# Write a code that takes two dictionaries as input and merges them into a single dictionary. If there are \n",
    "# common keys, the values should be added together"
   ]
  },
  {
   "cell_type": "code",
   "execution_count": 109,
   "metadata": {},
   "outputs": [
    {
     "name": "stdout",
     "output_type": "stream",
     "text": [
      "{'clearin': 1, 'the': 1, 'roof': 1, 'dont': 1, 'dream': 1, 'its': 1, 'over': 1}\n"
     ]
    }
   ],
   "source": [
    "def merge_dicts(dict1, dict2):\n",
    "    merged_dict = dict1.copy()  \n",
    "    for key, value in dict2.items():\n",
    "        if key in merged_dict:\n",
    "            merged_dict[key] += value \n",
    "            merged_dict[key] = value  \n",
    "    return merged_dict\n",
    "\n",
    "\n",
    "dict1 = eval(input(\"Enter the first dictionary: \"))\n",
    "dict2 = eval(input(\"Enter the second dictionary: \"))\n",
    "\n",
    "result = merge_dicts(dict1, dict2)\n",
    "print(result)\n"
   ]
  },
  {
   "cell_type": "code",
   "execution_count": 110,
   "metadata": {},
   "outputs": [],
   "source": [
    "#  Write a code to access a value in a nested dictionary. The function should take the dictionary and a list of \n",
    "# keys as input, and return the corresponding value. If any of the keys do not exist in the dictionary, the \n",
    "# function should return None"
   ]
  },
  {
   "cell_type": "code",
   "execution_count": 111,
   "metadata": {},
   "outputs": [
    {
     "name": "stdout",
     "output_type": "stream",
     "text": [
      "5\n"
     ]
    }
   ],
   "source": [
    "def access_nested_dict(nested_dict, keys):\n",
    "    for key in keys:\n",
    "        nested_dict = nested_dict.get(key)  # Access the value for the current key\n",
    "        if nested_dict is None:  # If the key doesn't exist, return None\n",
    "            return None\n",
    "    return nested_dict  # Return the final value if all keys exist\n",
    "\n",
    "\n",
    "nested_dict = {'a': {'b': {'c': 5}}}  # Sample nested dictionary\n",
    "keys = ['a', 'b', 'c']  # List of keys to access the nested value\n",
    "\n",
    "result = access_nested_dict(nested_dict, keys)\n",
    "print(result)\n"
   ]
  },
  {
   "cell_type": "code",
   "execution_count": 112,
   "metadata": {},
   "outputs": [],
   "source": [
    "# Write a code that takes a dictionary as input and returns a sorted version of it based on the values. You \n",
    "# can choose whether to sort in ascending or descending order"
   ]
  },
  {
   "cell_type": "code",
   "execution_count": 113,
   "metadata": {},
   "outputs": [
    {
     "name": "stdout",
     "output_type": "stream",
     "text": [
      "Sorted in ascending order: {'banana': 1, 'orange': 2, 'apple': 3}\n",
      "Sorted in descending order: {'apple': 3, 'orange': 2, 'banana': 1}\n"
     ]
    }
   ],
   "source": [
    "def sort_dict_by_value(input_dict, descending=False):\n",
    "    sorted_dict = dict(sorted(input_dict.items(), key=lambda item: item[1], reverse=descending))\n",
    "    return sorted_dict\n",
    "\n",
    "\n",
    "input_dict = {'apple': 3, 'banana': 1, 'orange': 2}\n",
    "\n",
    "\n",
    "ascending_sorted = sort_dict_by_value(input_dict, descending=False)\n",
    "print(\"Sorted in ascending order:\", ascending_sorted)\n",
    "\n",
    "descending_sorted = sort_dict_by_value(input_dict, descending=True)\n",
    "print(\"Sorted in descending order:\", descending_sorted)\n"
   ]
  },
  {
   "cell_type": "code",
   "execution_count": 114,
   "metadata": {},
   "outputs": [],
   "source": [
    "# Write a code that inverts a dictionary, swapping keys and values. Ensure that the inverted dictionary \n",
    "# correctly handles cases where multiple keys have the same value by storing the keys as a list in the \n",
    "# inverted dictionary."
   ]
  },
  {
   "cell_type": "code",
   "execution_count": 115,
   "metadata": {},
   "outputs": [
    {
     "name": "stdout",
     "output_type": "stream",
     "text": [
      "{1: ['a', 'c'], 2: ['b', 'e'], 3: ['d']}\n"
     ]
    }
   ],
   "source": [
    "def invert_dict(input_dict):\n",
    "    inverted_dict = {}\n",
    "    \n",
    "    for key, value in input_dict.items():\n",
    "        if value in inverted_dict:\n",
    "            inverted_dict[value].append(key)  \n",
    "        else:\n",
    "            inverted_dict[value] = [key]  \n",
    "    \n",
    "    return inverted_dict\n",
    "\n",
    "\n",
    "input_dict = {'a': 1, 'b': 2, 'c': 1, 'd': 3, 'e': 2}\n",
    "\n",
    "inverted = invert_dict(input_dict)\n",
    "print(inverted)\n"
   ]
  }
 ],
 "metadata": {
  "kernelspec": {
   "display_name": "dependencies",
   "language": "python",
   "name": "python3"
  },
  "language_info": {
   "codemirror_mode": {
    "name": "ipython",
    "version": 3
   },
   "file_extension": ".py",
   "mimetype": "text/x-python",
   "name": "python",
   "nbconvert_exporter": "python",
   "pygments_lexer": "ipython3",
   "version": "3.12.6"
  }
 },
 "nbformat": 4,
 "nbformat_minor": 2
}
