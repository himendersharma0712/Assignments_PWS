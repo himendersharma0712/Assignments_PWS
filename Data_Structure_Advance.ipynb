{
 "cells": [
  {
   "cell_type": "code",
   "execution_count": 1,
   "metadata": {},
   "outputs": [],
   "source": [
    "# Write a code to reverse a string"
   ]
  },
  {
   "cell_type": "code",
   "execution_count": 5,
   "metadata": {},
   "outputs": [
    {
     "data": {
      "text/plain": [
       "'olleH'"
      ]
     },
     "execution_count": 5,
     "metadata": {},
     "output_type": "execute_result"
    }
   ],
   "source": [
    "str1 = \"Hello\"\n",
    "str1[-1::-1]"
   ]
  },
  {
   "cell_type": "code",
   "execution_count": 19,
   "metadata": {},
   "outputs": [],
   "source": [
    "# Write a code to count the number of vowels in a string"
   ]
  },
  {
   "cell_type": "code",
   "execution_count": 17,
   "metadata": {},
   "outputs": [
    {
     "name": "stdout",
     "output_type": "stream",
     "text": [
      " a : 2 \n",
      " e : 1 \n",
      " i : 6 \n",
      " o : 9 \n",
      " u : 2\n"
     ]
    }
   ],
   "source": [
    "str_ = 'pneumonoultramicroscopicsilicovolcanoconiosis'\n",
    "\n",
    "a = 0\n",
    "e = 0\n",
    "i = 0\n",
    "o = 0\n",
    "u = 0\n",
    "\n",
    "for char in str_ :\n",
    "    if char == 'a':\n",
    "        a += 1\n",
    "\n",
    "    if char == 'e':\n",
    "        e += 1\n",
    "\n",
    "    if char == 'i':\n",
    "        i += 1\n",
    "\n",
    "    if char == 'u':\n",
    "        u += 1\n",
    "\n",
    "    if char == 'o':\n",
    "        o += 1\n",
    "\n",
    "print(f' a : {a} \\n e : {e} \\n i : {i} \\n o : {o} \\n u : {u}')"
   ]
  },
  {
   "cell_type": "code",
   "execution_count": null,
   "metadata": {},
   "outputs": [
    {
     "ename": "IndentationError",
     "evalue": "unexpected indent (1577120560.py, line 1)",
     "output_type": "error",
     "traceback": [
      "  \u001b[36mCell\u001b[39m\u001b[36m \u001b[39m\u001b[32mIn[35]\u001b[39m\u001b[32m, line 1\u001b[39m\n\u001b[31m    \u001b[39m\u001b[31m\u0012 Write a code to find all occurrences of a given substring within another string\u0012\u001b[39m\n    ^\n\u001b[31mIndentationError\u001b[39m\u001b[31m:\u001b[39m unexpected indent\n"
     ]
    }
   ],
   "source": [
    "\n",
    "# $\u0012 Write a code to perform basic string compression using the counts of repeated characters\u0012\n",
    "# &\u0012 Write a code to determine if a string has all unique characters\u0012\n",
    "# \b\u0012 Write a code to convert a given string to uppercase or lowercase\u0012\n",
    "# \u0007\u0012 Write a code to count the number of words in a string\u0012"
   ]
  },
  {
   "cell_type": "code",
   "execution_count": 21,
   "metadata": {},
   "outputs": [],
   "source": [
    "# Write a code to check if a given string is a palindrome or not"
   ]
  },
  {
   "cell_type": "code",
   "execution_count": 32,
   "metadata": {},
   "outputs": [
    {
     "name": "stdout",
     "output_type": "stream",
     "text": [
      "palindrome detected\n"
     ]
    }
   ],
   "source": [
    "string_1 = 'RADAR'\n",
    "\n",
    "if string_1[-1::-1] == string_1:\n",
    "    print('palindrome detected')\n",
    "else:\n",
    "    print('NOT A palindrome 💀')"
   ]
  },
  {
   "cell_type": "code",
   "execution_count": 34,
   "metadata": {},
   "outputs": [],
   "source": [
    "# Write a code to check if two given strings are anagrams of each other"
   ]
  },
  {
   "cell_type": "code",
   "execution_count": 36,
   "metadata": {},
   "outputs": [
    {
     "name": "stdout",
     "output_type": "stream",
     "text": [
      "anagrams detected\n"
     ]
    }
   ],
   "source": [
    "str1 = 'listen'\n",
    "str2 = 'silent'\n",
    "\n",
    "if sorted(str1) == sorted(str2):\n",
    "    print('anagrams detected')\n",
    "else:\n",
    "    print('not anagrams ⚠️')"
   ]
  },
  {
   "cell_type": "code",
   "execution_count": 38,
   "metadata": {},
   "outputs": [],
   "source": [
    "# Write a code to find all occurrences of a given substring within another string"
   ]
  },
  {
   "cell_type": "code",
   "execution_count": 43,
   "metadata": {},
   "outputs": [
    {
     "name": "stdout",
     "output_type": "stream",
     "text": [
      "No of occurences = 7\n"
     ]
    }
   ],
   "source": [
    "substring = 'hell'\n",
    "main_str = \"Go to hell you hellish monster, you deserve to be in hell. hello! hell's gates are open for you!!! WHat the hell! what the hell is wrong with you??\"\n",
    "\n",
    "indices = []\n",
    "start = 0\n",
    "while True:\n",
    "    start = main_str.find(substring,start)\n",
    "    if start == -1:\n",
    "        break\n",
    "    indices.append(start)\n",
    "    start += 1\n",
    "\n",
    "print(f'No of occurences = {len(indices)}')"
   ]
  },
  {
   "cell_type": "code",
   "execution_count": 44,
   "metadata": {},
   "outputs": [],
   "source": [
    "#  Write a code to perform basic string compression using the counts of repeated characters"
   ]
  },
  {
   "cell_type": "code",
   "execution_count": null,
   "metadata": {},
   "outputs": [],
   "source": []
  }
 ],
 "metadata": {
  "kernelspec": {
   "display_name": "dependencies",
   "language": "python",
   "name": "python3"
  },
  "language_info": {
   "codemirror_mode": {
    "name": "ipython",
    "version": 3
   },
   "file_extension": ".py",
   "mimetype": "text/x-python",
   "name": "python",
   "nbconvert_exporter": "python",
   "pygments_lexer": "ipython3",
   "version": "3.12.6"
  }
 },
 "nbformat": 4,
 "nbformat_minor": 2
}
