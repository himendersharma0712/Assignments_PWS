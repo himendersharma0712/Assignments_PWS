{
 "cells": [
  {
   "cell_type": "code",
   "execution_count": 2,
   "metadata": {},
   "outputs": [],
   "source": [
    "# Question1: Define the z-statistic and explain its relationship to the standard normal distribution. How is the \n",
    "# z-statistic used in hypothesis testing?"
   ]
  },
  {
   "cell_type": "markdown",
   "metadata": {},
   "source": [
    "A z-statistic (or z-score) tells us how many standard deviations a data point is from the mean of a population. It follows the standard normal distribution, \n",
    "which is a normal distribution with a mean of 0 and a standard deviation of 1.\n",
    "\n",
    "\n",
    "Use in hypothesis testing:\n",
    "\n",
    "The z-statistic is used to test whether a sample mean significantly differs from a population mean.\n",
    "It helps in z-tests, which compare sample data to a known population.\n",
    "If the z-score is extreme (far from 0), it suggests that the sample is unlikely to come from the given population."
   ]
  },
  {
   "cell_type": "code",
   "execution_count": 3,
   "metadata": {},
   "outputs": [],
   "source": [
    "#  Question2 : What is a p-value, and how is it used in hypothesis testing? What does it mean if the p-value is \n",
    "# very small (e.g., 0.01)?"
   ]
  },
  {
   "cell_type": "markdown",
   "metadata": {},
   "source": [
    "A p-value tells us how strong the evidence is against a null hypothesis in a hypothesis test.\n",
    "\n",
    "A small p-value (e.g., 0.01) means there is strong evidence against the null hypothesis, suggesting that the observed data is very unlikely under the assumption that the null hypothesis is true.\n",
    "\n",
    "\n",
    "A large p-value (e.g., 0.5) means there isn’t enough evidence to reject the null hypothesis.\n",
    "\n",
    "\n",
    "If p<0.05, we usually reject the null hypothesis."
   ]
  },
  {
   "cell_type": "code",
   "execution_count": 4,
   "metadata": {},
   "outputs": [],
   "source": [
    "#  Question3: Compare and contrast the binomial and Bernoulli distributions. "
   ]
  },
  {
   "cell_type": "markdown",
   "metadata": {},
   "source": [
    "The binomial distribution describes the number of successes in \n",
    "𝑛\n",
    "n independent trials, where each trial has a constant probability \n",
    "𝑝\n",
    "p of success. On the other hand, the Bernoulli distribution is a special case of the binomial distribution where \n",
    "n=1, meaning there is only one trial. In simple terms, a Bernoulli distribution models a single yes/no outcome, while a binomial distribution counts the number of successes over multiple trials. For example, tossing a coin 10 times and counting heads follows a binomial distribution, whereas tossing a coin once follows a Bernoulli distribution."
   ]
  },
  {
   "cell_type": "code",
   "execution_count": 5,
   "metadata": {},
   "outputs": [],
   "source": [
    "# Question 4: Under what conditions is the binomial distribution used, and how does it relate to the Bernoulli \n",
    "# distribution?"
   ]
  },
  {
   "cell_type": "markdown",
   "metadata": {},
   "source": [
    "The binomial distribution is used when:\n",
    "There are n independent trials.\n",
    "\n",
    "\n",
    "Each trial has only two outcomes (success/failure).\n",
    "\n",
    "\n",
    "The probability of success remains constant for each trial.\n",
    "\n",
    "\n",
    "A Bernoulli distribution is a binomial distribution with \n",
    "n=1. In other words, a binomial distribution is just the sum of multiple Bernoulli trials."
   ]
  },
  {
   "cell_type": "code",
   "execution_count": 6,
   "metadata": {},
   "outputs": [],
   "source": [
    "# Question5: What are the key properties of the Poisson distribution, and when is it appropriate to use this \n",
    "# distribution?"
   ]
  },
  {
   "cell_type": "markdown",
   "metadata": {},
   "source": [
    "The Poisson distribution models the probability of a given number of events occurring in a fixed interval of time or space, given that the events happen at a constant rate and are independent of each other.\n",
    "\n",
    "Key Properties:\n",
    "\n",
    "Describes rare or random events occurring over time.\n",
    "The mean \n",
    "λ is also the variance.\n",
    "Used when the number of trials is large, and the probability of an event is small.\n",
    "Example:\n",
    "\n",
    "Number of emails received per hour.\n",
    "\n",
    "\n",
    "Number of customer arrivals at a store in a day"
   ]
  },
  {
   "cell_type": "code",
   "execution_count": 7,
   "metadata": {},
   "outputs": [],
   "source": [
    "#  Question6: Define the terms \"probability distribution\" and \"probability density function\" (PDF). How does a \n",
    "# PDF differ from a probability mass function (PMF)?"
   ]
  },
  {
   "cell_type": "markdown",
   "metadata": {},
   "source": [
    "Probability Distribution: Describes how probabilities are assigned to different possible values of a random variable.\n",
    "\n",
    "\n",
    "Probability Density Function (PDF): Used for continuous random variables, gives the likelihood of a value in a range but not an exact probability.\n",
    "\n",
    "\n",
    "Probability Mass Function (PMF): Used for discrete random variables; gives the exact probability of each value occurring.\n",
    "\n",
    "\n",
    "Difference:\n",
    "\n",
    "PDF deals with continuous data (e.g., heights, weights).\n",
    "\n",
    "\n",
    "PMF deals with discrete data (e.g., number of students in a class)"
   ]
  },
  {
   "cell_type": "code",
   "execution_count": 8,
   "metadata": {},
   "outputs": [],
   "source": [
    "# Question7: Explain the Central Limit Theorem (CLT) with example."
   ]
  },
  {
   "cell_type": "markdown",
   "metadata": {},
   "source": [
    "The Central Limit Theorem (CLT) states that if we take a large number of random samples from any population and calculate their means, the distribution of these means will approximate a normal distribution, regardless of the original population distribution.\n",
    "\n",
    "Example:\n",
    "\n",
    "Suppose we take random samples of 50 students from a school and record their average height.\n",
    "If we repeat this process many times, the distribution of these sample means will form a normal distribution, even if the original population was not normal."
   ]
  },
  {
   "cell_type": "code",
   "execution_count": 10,
   "metadata": {},
   "outputs": [],
   "source": [
    "# Question8: Compare z-scores and t-scores. When should you use a z-score, and when should a t-score be applied instead?"
   ]
  },
  {
   "cell_type": "markdown",
   "metadata": {},
   "source": [
    "A z-score is used when the population standard deviation is known or when the sample size is large (\n",
    "n>30). It follows the standard normal distribution. In contrast, a t-score is used when the population standard deviation is unknown and the sample size is small (n<30). The t-score follows the t-distribution, which has heavier tails than the normal distribution. Essentially, the z-score is preferred for large datasets or when precise population parameters are available, while the t-score is better suited for small samples with unknown variability."
   ]
  },
  {
   "cell_type": "code",
   "execution_count": 11,
   "metadata": {},
   "outputs": [],
   "source": [
    "# Question9: Given a sample mean of 105, a population mean of 100, a standard deviation of 15, and a sample \n",
    "# size of 25, calculate the z-score and p-value. Based on a significance level of 0.05, do you reject or fail to \n",
    "# reject the null hypothesis?\n",
    "#  Task: Write Python code to calculate the z-score and p-value for the given data.\n",
    "#  Objective: Apply the formula for the z-score and interpret the p-value for hypothesis testing."
   ]
  },
  {
   "cell_type": "code",
   "execution_count": 14,
   "metadata": {},
   "outputs": [
    {
     "name": "stdout",
     "output_type": "stream",
     "text": [
      "Z-score: 1.67\n",
      "P-value: 0.0956\n",
      "Decision: Fail to reject null hypothesis\n"
     ]
    }
   ],
   "source": [
    "import scipy.stats as stats\n",
    "import math\n",
    "\n",
    "\n",
    "sample_mean = 105\n",
    "population_mean = 100\n",
    "std_dev = 15\n",
    "sample_size = 25\n",
    "\n",
    "\n",
    "standard_error = std_dev / math.sqrt(sample_size)\n",
    "\n",
    "\n",
    "z_score = (sample_mean - population_mean) / standard_error\n",
    "\n",
    "p_value = 2 * (1 - stats.norm.cdf(abs(z_score)))\n",
    "\n",
    "\n",
    "alpha = 0.05\n",
    "reject_null = p_value < alpha\n",
    "\n",
    "print(f\"Z-score: {z_score:.2f}\")\n",
    "print(f\"P-value: {p_value:.4f}\")\n",
    "print(\"Decision: Reject null hypothesis\" if reject_null else \"Decision: Fail to reject null hypothesis\")"
   ]
  },
  {
   "cell_type": "code",
   "execution_count": 15,
   "metadata": {},
   "outputs": [],
   "source": [
    "#  Question10: Simulate a binomial distribution with 10 trials and a probability of success of 0.6 using Python. \n",
    "# Generate 1,000 samples and plot the distribution. What is the expected mean and variance?\n",
    "#  Task: Use Python to generate the data, plot the distribution, and calculate the mean and variance.\n",
    "#  Objective: Understand the properties of a binomial distribution and verify them through simulation."
   ]
  },
  {
   "cell_type": "code",
   "execution_count": 18,
   "metadata": {},
   "outputs": [
    {
     "name": "stdout",
     "output_type": "stream",
     "text": [
      "Z-score: 1.67\n",
      "P-value: 0.0956\n",
      "Decision: Fail to reject null hypothesis\n"
     ]
    },
    {
     "data": {
      "image/png": "[encoded data removed]",
      "text/plain": [
       "<Figure size 640x480 with 1 Axes>"
      ]
     },
     "metadata": {},
     "output_type": "display_data"
    },
    {
     "name": "stdout",
     "output_type": "stream",
     "text": [
      "Expected Mean: 6.0\n",
      "Expected Variance: 2.4000000000000004\n"
     ]
    }
   ],
   "source": [
    "import scipy.stats as stats\n",
    "import math\n",
    "import numpy as np\n",
    "import matplotlib.pyplot as plt\n",
    "\n",
    "sample_mean = 105\n",
    "population_mean = 100\n",
    "std_dev = 15\n",
    "sample_size = 25\n",
    "\n",
    "standard_error = std_dev / math.sqrt(sample_size)\n",
    "\n",
    "z_score = (sample_mean - population_mean) / standard_error\n",
    "\n",
    "p_value = 2 * (1 - stats.norm.cdf(abs(z_score)))\n",
    "\n",
    "alpha = 0.05\n",
    "reject_null = p_value < alpha\n",
    "\n",
    "print(f\"Z-score: {z_score:.2f}\")\n",
    "print(f\"P-value: {p_value:.4f}\")\n",
    "print(\"Decision: Reject null hypothesis\" if reject_null else \"Decision: Fail to reject null hypothesis\")\n",
    "\n",
    "n_trials = 10\n",
    "p_success = 0.6\n",
    "num_samples = 1000\n",
    "\n",
    "binomial_samples = np.random.binomial(n_trials, p_success, num_samples)\n",
    "\n",
    "plt.hist(binomial_samples, bins=range(n_trials+2), density=True, alpha=0.7, color='b', edgecolor='black')\n",
    "plt.xlabel('Number of Successes')\n",
    "plt.ylabel('Probability')\n",
    "plt.title('Binomial Distribution (n=10, p=0.6, 1000 samples)')\n",
    "plt.xticks(range(n_trials+1))\n",
    "plt.grid(axis='y', linestyle='--', alpha=0.7)\n",
    "plt.show()\n",
    "\n",
    "expected_mean = n_trials * p_success\n",
    "expected_variance = n_trials * p_success * (1 - p_success)\n",
    "\n",
    "print(f\"Expected Mean: {expected_mean}\")\n",
    "print(f\"Expected Variance: {expected_variance}\")\n"
   ]
  }
 ],
 "metadata": {
  "kernelspec": {
   "display_name": "dependencies",
   "language": "python",
   "name": "python3"
  },
  "language_info": {
   "codemirror_mode": {
    "name": "ipython",
    "version": 3
   },
   "file_extension": ".py",
   "mimetype": "text/x-python",
   "name": "python",
   "nbconvert_exporter": "python",
   "pygments_lexer": "ipython3",
   "version": "3.12.6"
  }
 },
 "nbformat": 4,
 "nbformat_minor": 2
}
