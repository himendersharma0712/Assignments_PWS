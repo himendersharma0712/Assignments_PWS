{
 "cells": [
  {
   "cell_type": "code",
   "execution_count": 2,
   "metadata": {},
   "outputs": [],
   "source": [
    "import numpy as np"
   ]
  },
  {
   "cell_type": "code",
   "execution_count": 4,
   "metadata": {},
   "outputs": [],
   "source": [
    "#  1. Create a 3x3 NumPy array with random integers between 1 and 100. Then, interchange its rows and columns."
   ]
  },
  {
   "cell_type": "code",
   "execution_count": 55,
   "metadata": {},
   "outputs": [
    {
     "data": {
      "text/plain": [
       "array([[14, 20, 81],\n",
       "       [91, 34, 46],\n",
       "       [77,  7, 57]], dtype=int32)"
      ]
     },
     "execution_count": 55,
     "metadata": {},
     "output_type": "execute_result"
    }
   ],
   "source": [
    "threeD_arr = np.random.randint(1,101,(3,3))\n",
    "threeD_arr"
   ]
  },
  {
   "cell_type": "code",
   "execution_count": 56,
   "metadata": {},
   "outputs": [
    {
     "data": {
      "text/plain": [
       "array([[14, 91, 77],\n",
       "       [20, 34,  7],\n",
       "       [81, 46, 57]], dtype=int32)"
      ]
     },
     "execution_count": 56,
     "metadata": {},
     "output_type": "execute_result"
    }
   ],
   "source": [
    "threeD_arr.T"
   ]
  },
  {
   "cell_type": "code",
   "execution_count": 13,
   "metadata": {},
   "outputs": [],
   "source": [
    "# 2.  Generate a 1D NumPy array with 10 elements. Reshape it into a 2x5 array, then into a 5x2 array."
   ]
  },
  {
   "cell_type": "code",
   "execution_count": 15,
   "metadata": {},
   "outputs": [
    {
     "data": {
      "text/plain": [
       "array([[ 1,  2,  3,  4,  5],\n",
       "       [ 6,  7,  8,  9, 10]])"
      ]
     },
     "execution_count": 15,
     "metadata": {},
     "output_type": "execute_result"
    }
   ],
   "source": [
    "arr1 = np.array([i for i in range(1,11)])\n",
    "\n",
    "arr1.reshape((2,5))"
   ]
  },
  {
   "cell_type": "code",
   "execution_count": 16,
   "metadata": {},
   "outputs": [
    {
     "data": {
      "text/plain": [
       "array([[ 1,  2],\n",
       "       [ 3,  4],\n",
       "       [ 5,  6],\n",
       "       [ 7,  8],\n",
       "       [ 9, 10]])"
      ]
     },
     "execution_count": 16,
     "metadata": {},
     "output_type": "execute_result"
    }
   ],
   "source": [
    "arr1.reshape(5,2)"
   ]
  },
  {
   "cell_type": "code",
   "execution_count": 17,
   "metadata": {},
   "outputs": [],
   "source": [
    "# 3. Create a 4x4 NumPy array with random float values. Add a border of zeros around it, resulting in a 6x6 array."
   ]
  },
  {
   "cell_type": "code",
   "execution_count": 20,
   "metadata": {},
   "outputs": [
    {
     "name": "stdout",
     "output_type": "stream",
     "text": [
      "Original 4x4 array:\n",
      "[[0.31543679 0.69728746 0.73110292 0.2503884 ]\n",
      " [0.62612475 0.43946337 0.49354693 0.36649965]\n",
      " [0.29200383 0.01669974 0.18484576 0.54503257]\n",
      " [0.55164061 0.84957744 0.71697248 0.62762399]]\n",
      "\n",
      "6x6 array with border of zeros:\n",
      "[[0.         0.         0.         0.         0.         0.        ]\n",
      " [0.         0.31543679 0.69728746 0.73110292 0.2503884  0.        ]\n",
      " [0.         0.62612475 0.43946337 0.49354693 0.36649965 0.        ]\n",
      " [0.         0.29200383 0.01669974 0.18484576 0.54503257 0.        ]\n",
      " [0.         0.55164061 0.84957744 0.71697248 0.62762399 0.        ]\n",
      " [0.         0.         0.         0.         0.         0.        ]]\n"
     ]
    }
   ],
   "source": [
    "array_4x4 = np.random.rand(4, 4)\n",
    "\n",
    "array_6x6 = np.zeros((6, 6))\n",
    "\n",
    "\n",
    "array_6x6[1:5, 1:5] = array_4x4\n",
    "\n",
    "print(\"Original 4x4 array:\")\n",
    "print(array_4x4)\n",
    "print(\"\\n6x6 array with border of zeros:\")\n",
    "print(array_6x6)\n"
   ]
  },
  {
   "cell_type": "code",
   "execution_count": 21,
   "metadata": {},
   "outputs": [],
   "source": [
    "# Using NumPy, create an array of integers from 10 to 60 with a step of 5"
   ]
  },
  {
   "cell_type": "code",
   "execution_count": 22,
   "metadata": {},
   "outputs": [
    {
     "data": {
      "text/plain": [
       "array([10, 15, 20, 25, 30, 35, 40, 45, 50, 55])"
      ]
     },
     "execution_count": 22,
     "metadata": {},
     "output_type": "execute_result"
    }
   ],
   "source": [
    "np.array([i for i in range(10,60,5)])"
   ]
  },
  {
   "cell_type": "code",
   "execution_count": 23,
   "metadata": {},
   "outputs": [],
   "source": [
    "#  Create a NumPy array of strings ['python', 'numpy', 'pandas']. Apply different case transformations \n",
    "# (uppercase, lowercase, title case, etc.) to each element."
   ]
  },
  {
   "cell_type": "code",
   "execution_count": 37,
   "metadata": {},
   "outputs": [
    {
     "name": "stdout",
     "output_type": "stream",
     "text": [
      "['PYTHON' 'NUMPY' 'PANDAS'] ['python' 'numpy' 'pandas'] ['Python' 'Numpy' 'Pandas'] ['PYTHON' 'NUMPY' 'PANDAS']\n"
     ]
    }
   ],
   "source": [
    "arr = np.array(['python', 'numpy', 'pandas'])\n",
    "\n",
    "upper_case = np.char.upper(arr)\n",
    "lower_case = np.char.lower(arr)\n",
    "title_case = np.char.title(arr)\n",
    "swap_case = np.char.swapcase(arr)\n",
    "\n",
    "print(upper_case,lower_case,title_case,swap_case)"
   ]
  },
  {
   "cell_type": "code",
   "execution_count": 38,
   "metadata": {},
   "outputs": [],
   "source": [
    "# Generate a NumPy array of words. Insert a space between each character of every word in the array."
   ]
  },
  {
   "cell_type": "code",
   "execution_count": 39,
   "metadata": {},
   "outputs": [
    {
     "name": "stdout",
     "output_type": "stream",
     "text": [
      "Original words: ['hello' 'numpy' 'array']\n",
      "Words with spaces: ['h e l l o' 'n u m p y' 'a r r a y']\n"
     ]
    }
   ],
   "source": [
    "import numpy as np\n",
    "\n",
    "\n",
    "words = np.array([\"hello\", \"numpy\", \"array\"])\n",
    "\n",
    "spaced_words = np.char.join(\" \", words)\n",
    "\n",
    "print(\"Original words:\", words)\n",
    "print(\"Words with spaces:\", spaced_words)\n"
   ]
  },
  {
   "cell_type": "code",
   "execution_count": 41,
   "metadata": {},
   "outputs": [],
   "source": [
    "# Create two 2D NumPy arrays and perform element-wise addition, subtraction, multiplication, and division."
   ]
  },
  {
   "cell_type": "code",
   "execution_count": 40,
   "metadata": {},
   "outputs": [
    {
     "name": "stdout",
     "output_type": "stream",
     "text": [
      "Array 1:\n",
      "[[2 4]\n",
      " [6 8]]\n",
      "\n",
      "Array 2:\n",
      "[[1 3]\n",
      " [5 7]]\n",
      "\n",
      "Element-wise Addition:\n",
      "[[ 3  7]\n",
      " [11 15]]\n",
      "\n",
      "Element-wise Subtraction:\n",
      "[[1 1]\n",
      " [1 1]]\n",
      "\n",
      "Element-wise Multiplication:\n",
      "[[ 2 12]\n",
      " [30 56]]\n",
      "\n",
      "Element-wise Division:\n",
      "[[2.         1.33333333]\n",
      " [1.2        1.14285714]]\n"
     ]
    }
   ],
   "source": [
    "import numpy as np\n",
    "\n",
    "\n",
    "array1 = np.array([[2, 4], [6, 8]])\n",
    "array2 = np.array([[1, 3], [5, 7]])\n",
    "\n",
    "\n",
    "addition = array1 + array2\n",
    "subtraction = array1 - array2\n",
    "multiplication = array1 * array2\n",
    "division = array1 / array2  \n",
    "\n",
    "print(\"Array 1:\")\n",
    "print(array1)\n",
    "\n",
    "print(\"\\nArray 2:\")\n",
    "print(array2)\n",
    "\n",
    "print(\"\\nElement-wise Addition:\")\n",
    "print(addition)\n",
    "\n",
    "print(\"\\nElement-wise Subtraction:\")\n",
    "print(subtraction)\n",
    "\n",
    "print(\"\\nElement-wise Multiplication:\")\n",
    "print(multiplication)\n",
    "\n",
    "print(\"\\nElement-wise Division:\")\n",
    "print(division)\n"
   ]
  },
  {
   "cell_type": "code",
   "execution_count": 42,
   "metadata": {},
   "outputs": [],
   "source": [
    "# Use NumPy to create a 5x5 identity matrix, then extract its diagonal elements"
   ]
  },
  {
   "cell_type": "code",
   "execution_count": 44,
   "metadata": {},
   "outputs": [
    {
     "data": {
      "text/plain": [
       "array([1., 1., 1., 1., 1.])"
      ]
     },
     "execution_count": 44,
     "metadata": {},
     "output_type": "execute_result"
    }
   ],
   "source": [
    "fiv_arr = np.ones((5,5))\n",
    "fiv_arr.diagonal()"
   ]
  },
  {
   "cell_type": "code",
   "execution_count": 45,
   "metadata": {},
   "outputs": [],
   "source": [
    "# Generate a NumPy array of 100 random integers between 0 and 1000. Find and display all prime numbers in \n",
    "# this array."
   ]
  },
  {
   "cell_type": "code",
   "execution_count": 53,
   "metadata": {},
   "outputs": [
    {
     "name": "stdout",
     "output_type": "stream",
     "text": [
      "Random Numbers Array:\n",
      "[221  12 816 965 828 548 498 269 853 177 839 320 195 189 664 158 806 919\n",
      " 757 757 113 821 646 949 570 204 772 331 360 442 183 936 709 638 476 553\n",
      " 330 227  72 214 789 657 715 367 953 812 709 788 601 296 920 899 598 773\n",
      " 529 350  23 351 964  36 274 712 669 385 467 161 609 670 757 462 109 650\n",
      " 346 155 149 464 770   7 581 197 255  73 860 928 813 739 560 231 877 724\n",
      " 876 505  46  52 837 345 526 268 247 575]\n",
      "\n",
      "Prime Numbers in the Array:\n",
      "[269 853 839 919 757 757 113 821 331 709 227 367 953 709 601 773  23 467\n",
      " 757 109 149   7 197  73 739 877]\n"
     ]
    }
   ],
   "source": [
    "def is_prime(n):\n",
    "    if n < 2:\n",
    "        return False\n",
    "    for i in range(2, int(np.sqrt(n)) + 1):\n",
    "        if n % i == 0:\n",
    "            return False\n",
    "    return True\n",
    "\n",
    "random_numbers = np.random.randint(0, 1001, 100)\n",
    "\n",
    "prime_numbers = np.array([num for num in random_numbers if is_prime(num)])\n",
    "\n",
    "print(\"Random Numbers Array:\")\n",
    "print(random_numbers)\n",
    "\n",
    "print(\"\\nPrime Numbers in the Array:\")\n",
    "print(prime_numbers)\n"
   ]
  },
  {
   "cell_type": "code",
   "execution_count": 46,
   "metadata": {},
   "outputs": [],
   "source": [
    "#  10. Create a NumPy array representing daily temperatures for a month. Calculate and display the weekly \n",
    "# averages"
   ]
  },
  {
   "cell_type": "code",
   "execution_count": 57,
   "metadata": {},
   "outputs": [
    {
     "name": "stdout",
     "output_type": "stream",
     "text": [
      "Daily Temperatures: [99 66 72 66 77 93 86 75 64 61 77 73 83 75 70 67 69 81 74 78 62 65 84 82\n",
      " 70 78 94 88 61 85]\n",
      "Weekly Averages: [np.float64(79.85714285714286), np.float64(72.57142857142857), np.float64(71.57142857142857), np.float64(80.14285714285714), np.float64(73.0)]\n"
     ]
    }
   ],
   "source": [
    "import numpy as np\n",
    "\n",
    "temps = np.random.randint(60, 100, 30)\n",
    "weekly_averages = [np.mean(temps[i:i+7]) for i in range(0, len(temps), 7)]\n",
    "print(\"Daily Temperatures:\", temps)\n",
    "print(\"Weekly Averages:\", weekly_averages)\n"
   ]
  }
 ],
 "metadata": {
  "kernelspec": {
   "display_name": "dependencies",
   "language": "python",
   "name": "python3"
  },
  "language_info": {
   "codemirror_mode": {
    "name": "ipython",
    "version": 3
   },
   "file_extension": ".py",
   "mimetype": "text/x-python",
   "name": "python",
   "nbconvert_exporter": "python",
   "pygments_lexer": "ipython3",
   "version": "3.12.6"
  }
 },
 "nbformat": 4,
 "nbformat_minor": 2
}
